{
 "cells": [
  {
   "attachments": {},
   "cell_type": "markdown",
   "metadata": {
    "dotnet_interactive": {
     "language": "csharp"
    },
    "polyglot_notebook": {
     "kernelName": "csharp"
    }
   },
   "source": [
    "# Advent of Code 2015 - Day 5 - Naughty and Nice Strings"
   ]
  },
  {
   "attachments": {},
   "cell_type": "markdown",
   "metadata": {
    "dotnet_interactive": {
     "language": "csharp"
    },
    "polyglot_notebook": {
     "kernelName": "csharp"
    }
   },
   "source": [
    "https://adventofcode.com/2015/day/5"
   ]
  },
  {
   "attachments": {},
   "cell_type": "markdown",
   "metadata": {
    "dotnet_interactive": {
     "language": "csharp"
    },
    "polyglot_notebook": {
     "kernelName": "csharp"
    }
   },
   "source": [
    "We have to test strings for various patterns.  Here we assume that as will read each string character by character, using a number of separate string tests, and if any of the tests returns a 'Naughty' result, then the string is naughty and not nice."
   ]
  },
  {
   "cell_type": "code",
   "execution_count": 1,
   "metadata": {
    "dotnet_interactive": {
     "language": "fsharp"
    },
    "polyglot_notebook": {
     "kernelName": "fsharp"
    },
    "vscode": {
     "languageId": "polyglot-notebook"
    }
   },
   "outputs": [],
   "source": [
    "type StringCategorisation = | Naughty | Nice\n",
    "\n",
    "let defaultStringCategorisation = Nice"
   ]
  },
  {
   "cell_type": "code",
   "execution_count": 2,
   "metadata": {
    "dotnet_interactive": {
     "language": "fsharp"
    },
    "polyglot_notebook": {
     "kernelName": "fsharp"
    },
    "vscode": {
     "languageId": "polyglot-notebook"
    }
   },
   "outputs": [
    {
     "data": {
      "text/plain": [
       "sample-input.txt"
      ]
     },
     "metadata": {},
     "output_type": "display_data"
    }
   ],
   "source": [
    "let stringInputFilePath = @\"sample-input.txt\"\n",
    "\n",
    "stringInputFilePath"
   ]
  },
  {
   "cell_type": "code",
   "execution_count": 3,
   "metadata": {
    "dotnet_interactive": {
     "language": "fsharp"
    },
    "polyglot_notebook": {
     "kernelName": "fsharp"
    },
    "vscode": {
     "languageId": "polyglot-notebook"
    }
   },
   "outputs": [],
   "source": [
    "let identity x = x\n",
    "\n",
    "// This is the signture we require for string-checking functions\n",
    "type StringChecker = string -> Map<char,int> -> StringCategorisation\n",
    "\n",
    "// Combine multiple StringCheckers into a single checking function\n",
    "let createNaughtyOrNice (checkers: StringChecker list) =\n",
    "    let naughtyOrNice (s: string): StringCategorisation =\n",
    "        // charMap is a map of how many times each character occurs in 's'\n",
    "        let charMap = s |> Seq.groupBy identity |> Seq.map (fun (s,sseq) -> (s, sseq |> Seq.toList |> List.length)) |> Map.ofSeq\n",
    "        let results = checkers |> List.map (fun checker -> checker s charMap)\n",
    "        if (results |> List.contains Naughty) then Naughty else Nice\n",
    "    naughtyOrNice\n",
    "\n",
    "let vowels = \"aeiou\" // can assume that all strings are lower-case only\n",
    "\n",
    "// String checker #1 - check for at least three vowels\n",
    "let vowelChecker: StringChecker = fun (s: string) (charMap: Map<char,int>) ->\n",
    "    let vowelCount =\n",
    "        vowels |> Seq.map (fun vowel ->\n",
    "            if (charMap |> Map.containsKey vowel)\n",
    "            then charMap[vowel]\n",
    "            else 0\n",
    "        ) |> Seq.sum\n",
    "    if (vowelCount >= 3)\n",
    "    then Nice\n",
    "    else Naughty\n",
    "\n",
    "// String checker #2 - check for at least one double\n",
    "let doubleChecker: StringChecker = fun (s: string) (charMap: Map<char,int>) ->\n",
    "    let isNice = // for any letter that occurs at least twice, search for a double\n",
    "        charMap |> Map.keys |> Seq.map (fun ch ->\n",
    "            if (charMap[ch] >= 2)\n",
    "            then s.Contains(sprintf \"%c%c\" ch ch)\n",
    "            else false\n",
    "        ) |> Seq.contains true\n",
    "    if (isNice)\n",
    "    then Nice\n",
    "    else Naughty\n",
    "\n",
    "let excludedStrings = [ \"ab\"; \"cd\"; \"pq\"; \"xy\" ]\n",
    "\n",
    "// String checker #3 - check that no excluded strings occur\n",
    "let excludedChecker: StringChecker = fun (s: string) (charMap: Map<char,int>) ->\n",
    "    let isNaughty =\n",
    "        excludedStrings |> List.map (fun excl -> s.Contains(excl)) |> List.contains true\n",
    "    if (isNaughty)\n",
    "    then Naughty\n",
    "    else Nice\n",
    "\n",
    "let naughtyOrNice: string -> StringCategorisation =\n",
    "    createNaughtyOrNice ([vowelChecker; doubleChecker; excludedChecker])"
   ]
  },
  {
   "cell_type": "code",
   "execution_count": 13,
   "metadata": {
    "dotnet_interactive": {
     "language": "fsharp"
    },
    "polyglot_notebook": {
     "kernelName": "fsharp"
    },
    "vscode": {
     "languageId": "polyglot-notebook"
    }
   },
   "outputs": [
    {
     "name": "stdout",
     "output_type": "stream",
     "text": [
      "255 nice strings out of 1000\n"
     ]
    }
   ],
   "source": [
    "let lines = File.ReadAllLines(stringInputFilePath)\n",
    "\n",
    "let lineCount = lines |> Seq.length\n",
    "\n",
    "let stringCategorisations = lines |> Seq.map naughtyOrNice\n",
    "\n",
    "let isNice (sc: StringCategorisation) = sc = Nice\n",
    "\n",
    "let niceCount = stringCategorisations |> Seq.filter (isNice) |> Seq.length\n",
    "\n",
    "printfn \"%d nice strings out of %d\" niceCount lineCount"
   ]
  },
  {
   "attachments": {},
   "cell_type": "markdown",
   "metadata": {
    "dotnet_interactive": {
     "language": "fsharp"
    },
    "polyglot_notebook": {
     "kernelName": "fsharp"
    }
   },
   "source": [
    "We can print the nice and naughty strings."
   ]
  },
  {
   "cell_type": "code",
   "execution_count": 12,
   "metadata": {
    "dotnet_interactive": {
     "language": "fsharp"
    },
    "polyglot_notebook": {
     "kernelName": "fsharp"
    },
    "vscode": {
     "languageId": "polyglot-notebook"
    }
   },
   "outputs": [],
   "source": [
    "let printByCategory (category: StringCategorisation) (results: (StringCategorisation*string) seq) =\n",
    "    printfn \"%A\" (\n",
    "        Seq.zip stringCategorisations lines |> Seq.filter (fun pair ->\n",
    "            let sc, _ = pair\n",
    "            sc = category\n",
    "        ) |> Seq.map (fun pair ->\n",
    "            let _, line = pair\n",
    "            line\n",
    "        )\n",
    "    )"
   ]
  },
  {
   "cell_type": "code",
   "execution_count": 14,
   "metadata": {
    "dotnet_interactive": {
     "language": "fsharp"
    },
    "polyglot_notebook": {
     "kernelName": "fsharp"
    },
    "vscode": {
     "languageId": "polyglot-notebook"
    }
   },
   "outputs": [],
   "source": [
    "let zippedResults = Seq.zip stringCategorisations lines"
   ]
  },
  {
   "cell_type": "code",
   "execution_count": 15,
   "metadata": {
    "dotnet_interactive": {
     "language": "fsharp"
    },
    "polyglot_notebook": {
     "kernelName": "fsharp"
    },
    "vscode": {
     "languageId": "polyglot-notebook"
    }
   },
   "outputs": [
    {
     "name": "stdout",
     "output_type": "stream",
     "text": [
      "seq\n",
      "  [\"zwqadogmpjmmxijf\"; \"wrggegukhhatygfi\"; \"iuvrelxiapllaxbg\";\n",
      "   \"feybgiimfthtplui\"; ...]\n"
     ]
    }
   ],
   "source": [
    "printByCategory Nice zippedResults"
   ]
  },
  {
   "cell_type": "code",
   "execution_count": 16,
   "metadata": {
    "dotnet_interactive": {
     "language": "fsharp"
    },
    "polyglot_notebook": {
     "kernelName": "fsharp"
    },
    "vscode": {
     "languageId": "polyglot-notebook"
    }
   },
   "outputs": [
    {
     "name": "stdout",
     "output_type": "stream",
     "text": [
      "seq\n",
      "  [\"sszojmmrrkwuftyv\"; \"isaljhemltsdzlum\"; \"fujcyucsrxgatisb\";\n",
      "   \"qiqqlmcgnhzparyg\"; ...]\n"
     ]
    }
   ],
   "source": [
    "printByCategory  Naughty zippedResults"
   ]
  }
 ],
 "metadata": {
  "kernelspec": {
   "display_name": ".NET (C#)",
   "language": "C#",
   "name": ".net-csharp"
  },
  "polyglot_notebook": {
   "kernelInfo": {
    "defaultKernelName": "csharp",
    "items": [
     {
      "aliases": [],
      "name": "csharp"
     }
    ]
   }
  }
 },
 "nbformat": 4,
 "nbformat_minor": 2
}
